{
 "cells": [
  {
   "cell_type": "code",
   "execution_count": 17,
   "metadata": {},
   "outputs": [
    {
     "ename": "SyntaxError",
     "evalue": "invalid syntax (2367643732.py, line 8)",
     "output_type": "error",
     "traceback": [
      "\u001b[1;36m  Cell \u001b[1;32mIn[17], line 8\u001b[1;36m\u001b[0m\n\u001b[1;33m    for  order in\u001b[0m\n\u001b[1;37m                  ^\u001b[0m\n\u001b[1;31mSyntaxError\u001b[0m\u001b[1;31m:\u001b[0m invalid syntax\n"
     ]
    }
   ],
   "source": [
    "import json\n",
    "from module.data import combos\n",
    "\n",
    "with open(\"data/combos.json\", \"r\") as f:\n",
    "    combos = json.load(f)[\"combos\"]\n",
    "\n",
    "orders_object = []\n",
    "for  order in \n",
    "\n",
    "print(combos)"
   ]
  },
  {
   "cell_type": "code",
   "execution_count": 18,
   "metadata": {},
   "outputs": [
    {
     "ename": "NameError",
     "evalue": "name 'combos' is not defined",
     "output_type": "error",
     "traceback": [
      "\u001b[1;31m---------------------------------------------------------------------------\u001b[0m",
      "\u001b[1;31mNameError\u001b[0m                                 Traceback (most recent call last)",
      "\u001b[1;32mc:\\Users\\HUAWEI\\Desktop\\Mert_Calorie_Counter\\main.ipynb Cell 2\u001b[0m line \u001b[0;36m1\n\u001b[1;32m----> <a href='vscode-notebook-cell:/c%3A/Users/HUAWEI/Desktop/Mert_Calorie_Counter/main.ipynb#W1sZmlsZQ%3D%3D?line=0'>1</a>\u001b[0m combos \u001b[39m=\u001b[39m {combo[\u001b[39m\"\u001b[39m\u001b[39mid\u001b[39m\u001b[39m\"\u001b[39m]: combo \u001b[39mfor\u001b[39;00m combo \u001b[39min\u001b[39;00m combos}\n\u001b[0;32m      <a href='vscode-notebook-cell:/c%3A/Users/HUAWEI/Desktop/Mert_Calorie_Counter/main.ipynb#W1sZmlsZQ%3D%3D?line=1'>2</a>\u001b[0m \u001b[39mprint\u001b[39m(combos)\n",
      "\u001b[1;31mNameError\u001b[0m: name 'combos' is not defined"
     ]
    }
   ],
   "source": [
    "combos = {combo[\"id\"]: combo for combo in combos}\n",
    "print(combos)"
   ]
  }
 ],
 "metadata": {
  "kernelspec": {
   "display_name": "Python 3",
   "language": "python",
   "name": "python3"
  },
  "language_info": {
   "codemirror_mode": {
    "name": "ipython",
    "version": 3
   },
   "file_extension": ".py",
   "mimetype": "text/x-python",
   "name": "python",
   "nbconvert_exporter": "python",
   "pygments_lexer": "ipython3",
   "version": "3.11.5"
  },
  "orig_nbformat": 4
 },
 "nbformat": 4,
 "nbformat_minor": 2
}
